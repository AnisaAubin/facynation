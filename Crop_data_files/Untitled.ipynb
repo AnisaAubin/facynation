{
 "cells": [
  {
   "cell_type": "code",
   "execution_count": 1,
   "metadata": {},
   "outputs": [],
   "source": [
    "load('some_results//Spring_Maize_sens.RData', verbose = FALSE)"
   ]
  },
  {
   "cell_type": "code",
   "execution_count": 4,
   "metadata": {},
   "outputs": [
    {
     "name": "stdout",
     "output_type": "stream",
     "text": [
      "             ID          mean month\n",
      "1      Nebraska  0.0563163952   Apr\n",
      "2          Iowa  0.1097794546   Apr\n",
      "3      Illinois  0.1240120662   Apr\n",
      "4       Indiana  0.0835377192   Apr\n",
      "5     Minnesota  0.1846555091   Apr\n",
      "6          Ohio  0.0897295955   Apr\n",
      "7         Jilin -0.0318255666   Apr\n",
      "8      Liaoning -0.0591042695   Apr\n",
      "9  Heilongjiang -0.0194314317   Apr\n",
      "10     Nebraska  0.0211753795   May\n",
      "11         Iowa -0.0691100974   May\n",
      "12     Illinois  0.0303311040   May\n",
      "13      Indiana  0.0003192127   May\n",
      "14    Minnesota -0.1109289285   May\n",
      "15         Ohio  0.0508400723   May\n",
      "16        Jilin -0.1101843646   May\n",
      "17     Liaoning -0.0868353910   May\n",
      "18 Heilongjiang -0.0260564497   May\n",
      "19     Nebraska -0.0252283060   Jun\n",
      "20         Iowa -0.0369877441   Jun\n",
      "21     Illinois -0.1808710778   Jun\n",
      "22      Indiana -0.1555705725   Jun\n",
      "23    Minnesota -0.0347841530   Jun\n",
      "24         Ohio -0.1976706076   Jun\n",
      "25        Jilin -0.1785028868   Jun\n",
      "26     Liaoning -0.1888659222   Jun\n",
      "27 Heilongjiang -0.0593615314   Jun\n",
      "28     Nebraska -0.1896894321   Jul\n",
      "29         Iowa -0.1262801363   Jul\n",
      "30     Illinois -0.3661063558   Jul\n",
      "31      Indiana -0.3814452216   Jul\n",
      "32    Minnesota -0.0031468122   Jul\n",
      "33         Ohio -0.3037658272   Jul\n",
      "34        Jilin -0.0103619473   Jul\n",
      "35     Liaoning -0.1385209564   Jul\n",
      "36 Heilongjiang -0.0059604409   Jul\n",
      "37     Nebraska -0.1745353552   Aug\n",
      "38         Iowa -0.3207532608   Aug\n",
      "39     Illinois -0.2611884445   Aug\n",
      "40      Indiana -0.2213944153   Aug\n",
      "41    Minnesota -0.2201487496   Aug\n",
      "42         Ohio -0.1851928439   Aug\n",
      "43        Jilin -0.1678392073   Aug\n",
      "44     Liaoning -0.2998037665   Aug\n",
      "45 Heilongjiang -0.1653216224   Aug\n",
      "46     Nebraska  0.0769261228   Sep\n",
      "47         Iowa  0.1282702691   Sep\n",
      "48     Illinois -0.0786388077   Sep\n",
      "49      Indiana  0.0709956906   Sep\n",
      "50    Minnesota  0.2191612326   Sep\n",
      "51         Ohio -0.1016501992   Sep\n",
      "52        Jilin  0.2647903242   Sep\n",
      "53     Liaoning  0.3097626888   Sep\n",
      "54 Heilongjiang  0.0790425069   Sep\n",
      "55     Nebraska  0.0750032439   Oct\n",
      "56         Iowa  0.1384014710   Oct\n",
      "57     Illinois  0.1663815515   Oct\n",
      "58      Indiana  0.0425949207   Oct\n",
      "59    Minnesota  0.0949791351   Oct\n",
      "60         Ohio  0.0979591926   Oct\n",
      "61        Jilin  0.1169530886   Oct\n",
      "62     Liaoning  0.0759033256   Oct\n",
      "63 Heilongjiang  0.0107027127   Oct\n"
     ]
    }
   ],
   "source": [
    "print(sensitivities_Maize_Spring_precip)"
   ]
  },
  {
   "cell_type": "code",
   "execution_count": null,
   "metadata": {},
   "outputs": [],
   "source": []
  }
 ],
 "metadata": {
  "kernelspec": {
   "display_name": "R [conda env:new]",
   "language": "R",
   "name": "conda-env-new-r"
  },
  "language_info": {
   "codemirror_mode": "r",
   "file_extension": ".r",
   "mimetype": "text/x-r-source",
   "name": "R",
   "pygments_lexer": "r",
   "version": "3.5.1"
  }
 },
 "nbformat": 4,
 "nbformat_minor": 2
}
