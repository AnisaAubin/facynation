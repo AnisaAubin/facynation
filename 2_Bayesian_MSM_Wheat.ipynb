{
 "cells": [
  {
   "cell_type": "markdown",
   "metadata": {},
   "source": [
    "# Bayesian Monthly Sensitivity Model"
   ]
  },
  {
   "cell_type": "code",
   "execution_count": 2,
   "metadata": {},
   "outputs": [],
   "source": [
    "import pandas as pd\n",
    "import pylab as plt\n",
    "import numpy as np\n",
    "import seaborn as sns\n",
    "import nest_asyncio\n",
    "nest_asyncio.apply()\n",
    "import stan\n",
    "\n",
    "\n",
    "%matplotlib inline"
   ]
  },
  {
   "cell_type": "code",
   "execution_count": 4,
   "metadata": {},
   "outputs": [],
   "source": [
    "states=['Alberta','Manitoba']"
   ]
  },
  {
   "cell_type": "code",
   "execution_count": 5,
   "metadata": {},
   "outputs": [],
   "source": [
    "temp_states=[]\n",
    "for i,s in enumerate(states):\n",
    "    wheat_temp=pd.read_table('./Crop_data_files/wheat_met_anoms/Wheat_Spring_Canada_'+s+'_temp_anom_real.csv')\n",
    "    wheat_temp.rename(columns = {'Unnamed: 0':'Year'}, inplace = True)\n",
    "    temp_states.append(wheat_temp)\n",
    "temp_states=pd.concat(temp_states,keys=states)"
   ]
  },
  {
   "cell_type": "code",
   "execution_count": 6,
   "metadata": {},
   "outputs": [
    {
     "data": {
      "text/plain": [
       "(70, 13)"
      ]
     },
     "execution_count": 6,
     "metadata": {},
     "output_type": "execute_result"
    }
   ],
   "source": [
    "temp_states.shape"
   ]
  },
  {
   "cell_type": "code",
   "execution_count": 7,
   "metadata": {},
   "outputs": [
    {
     "data": {
      "text/html": [
       "<div>\n",
       "<style scoped>\n",
       "    .dataframe tbody tr th:only-of-type {\n",
       "        vertical-align: middle;\n",
       "    }\n",
       "\n",
       "    .dataframe tbody tr th {\n",
       "        vertical-align: top;\n",
       "    }\n",
       "\n",
       "    .dataframe thead th {\n",
       "        text-align: right;\n",
       "    }\n",
       "</style>\n",
       "<table border=\"1\" class=\"dataframe\">\n",
       "  <thead>\n",
       "    <tr style=\"text-align: right;\">\n",
       "      <th></th>\n",
       "      <th></th>\n",
       "      <th>Year</th>\n",
       "      <th>Jan</th>\n",
       "      <th>Feb</th>\n",
       "      <th>Mar</th>\n",
       "      <th>Apr</th>\n",
       "      <th>May</th>\n",
       "      <th>Jun</th>\n",
       "      <th>Jul</th>\n",
       "      <th>Aug</th>\n",
       "      <th>Sep</th>\n",
       "      <th>Oct</th>\n",
       "      <th>Nov</th>\n",
       "      <th>Dec</th>\n",
       "    </tr>\n",
       "  </thead>\n",
       "  <tbody>\n",
       "    <tr>\n",
       "      <th rowspan=\"5\" valign=\"top\">Alberta</th>\n",
       "      <th>0</th>\n",
       "      <td>1980</td>\n",
       "      <td>-4.558863</td>\n",
       "      <td>-0.574979</td>\n",
       "      <td>-2.798692</td>\n",
       "      <td>4.118739</td>\n",
       "      <td>1.562480</td>\n",
       "      <td>0.240780</td>\n",
       "      <td>-0.367725</td>\n",
       "      <td>-2.662456</td>\n",
       "      <td>-0.560231</td>\n",
       "      <td>1.883408</td>\n",
       "      <td>3.998546</td>\n",
       "      <td>-2.773745</td>\n",
       "    </tr>\n",
       "    <tr>\n",
       "      <th>1</th>\n",
       "      <td>1981</td>\n",
       "      <td>6.194938</td>\n",
       "      <td>2.457207</td>\n",
       "      <td>3.895042</td>\n",
       "      <td>1.024020</td>\n",
       "      <td>0.827557</td>\n",
       "      <td>-1.421037</td>\n",
       "      <td>-0.478416</td>\n",
       "      <td>2.087318</td>\n",
       "      <td>1.353523</td>\n",
       "      <td>-0.200117</td>\n",
       "      <td>4.931022</td>\n",
       "      <td>-0.090454</td>\n",
       "    </tr>\n",
       "    <tr>\n",
       "      <th>2</th>\n",
       "      <td>1982</td>\n",
       "      <td>-10.900981</td>\n",
       "      <td>-4.814200</td>\n",
       "      <td>-3.396243</td>\n",
       "      <td>-3.497221</td>\n",
       "      <td>-0.900914</td>\n",
       "      <td>0.349226</td>\n",
       "      <td>-0.682542</td>\n",
       "      <td>-1.136625</td>\n",
       "      <td>-0.232160</td>\n",
       "      <td>0.839836</td>\n",
       "      <td>-3.030403</td>\n",
       "      <td>1.558304</td>\n",
       "    </tr>\n",
       "    <tr>\n",
       "      <th>3</th>\n",
       "      <td>1983</td>\n",
       "      <td>2.506302</td>\n",
       "      <td>3.366720</td>\n",
       "      <td>0.371425</td>\n",
       "      <td>-0.064983</td>\n",
       "      <td>-0.287808</td>\n",
       "      <td>0.113660</td>\n",
       "      <td>-0.173004</td>\n",
       "      <td>2.217630</td>\n",
       "      <td>-1.737185</td>\n",
       "      <td>1.387547</td>\n",
       "      <td>1.425035</td>\n",
       "      <td>-9.816836</td>\n",
       "    </tr>\n",
       "    <tr>\n",
       "      <th>4</th>\n",
       "      <td>1984</td>\n",
       "      <td>3.102367</td>\n",
       "      <td>6.406299</td>\n",
       "      <td>0.304728</td>\n",
       "      <td>1.422145</td>\n",
       "      <td>-0.922846</td>\n",
       "      <td>0.083128</td>\n",
       "      <td>0.487475</td>\n",
       "      <td>1.637315</td>\n",
       "      <td>-3.159880</td>\n",
       "      <td>-2.961023</td>\n",
       "      <td>-2.889469</td>\n",
       "      <td>-5.568326</td>\n",
       "    </tr>\n",
       "  </tbody>\n",
       "</table>\n",
       "</div>"
      ],
      "text/plain": [
       "           Year        Jan       Feb       Mar       Apr       May       Jun  \\\n",
       "Alberta 0  1980  -4.558863 -0.574979 -2.798692  4.118739  1.562480  0.240780   \n",
       "        1  1981   6.194938  2.457207  3.895042  1.024020  0.827557 -1.421037   \n",
       "        2  1982 -10.900981 -4.814200 -3.396243 -3.497221 -0.900914  0.349226   \n",
       "        3  1983   2.506302  3.366720  0.371425 -0.064983 -0.287808  0.113660   \n",
       "        4  1984   3.102367  6.406299  0.304728  1.422145 -0.922846  0.083128   \n",
       "\n",
       "                Jul       Aug       Sep       Oct       Nov       Dec  \n",
       "Alberta 0 -0.367725 -2.662456 -0.560231  1.883408  3.998546 -2.773745  \n",
       "        1 -0.478416  2.087318  1.353523 -0.200117  4.931022 -0.090454  \n",
       "        2 -0.682542 -1.136625 -0.232160  0.839836 -3.030403  1.558304  \n",
       "        3 -0.173004  2.217630 -1.737185  1.387547  1.425035 -9.816836  \n",
       "        4  0.487475  1.637315 -3.159880 -2.961023 -2.889469 -5.568326  "
      ]
     },
     "execution_count": 7,
     "metadata": {},
     "output_type": "execute_result"
    }
   ],
   "source": [
    "# gives the temp anomalies by year/month\n",
    "temp_states.head()"
   ]
  },
  {
   "cell_type": "code",
   "execution_count": 9,
   "metadata": {},
   "outputs": [],
   "source": [
    "# Compile model\n",
    "with open('stan/BMSM-simp.stan', 'r') as f:\n",
    "    model = f.read()\n",
    "# sm = stan.build(f, data=data)\n"
   ]
  },
  {
   "cell_type": "code",
   "execution_count": 8,
   "metadata": {},
   "outputs": [],
   "source": [
    "yields=pd.read_table('Crop_data_files/Wheat_median_yield_anoms.csv')"
   ]
  },
  {
   "cell_type": "code",
   "execution_count": 10,
   "metadata": {},
   "outputs": [
    {
     "data": {
      "text/plain": [
       "(51, 58)"
      ]
     },
     "execution_count": 10,
     "metadata": {},
     "output_type": "execute_result"
    }
   ],
   "source": [
    "yields.shape"
   ]
  },
  {
   "cell_type": "code",
   "execution_count": 11,
   "metadata": {},
   "outputs": [
    {
     "data": {
      "text/html": [
       "<div>\n",
       "<style scoped>\n",
       "    .dataframe tbody tr th:only-of-type {\n",
       "        vertical-align: middle;\n",
       "    }\n",
       "\n",
       "    .dataframe tbody tr th {\n",
       "        vertical-align: top;\n",
       "    }\n",
       "\n",
       "    .dataframe thead th {\n",
       "        text-align: right;\n",
       "    }\n",
       "</style>\n",
       "<table border=\"1\" class=\"dataframe\">\n",
       "  <thead>\n",
       "    <tr style=\"text-align: right;\">\n",
       "      <th></th>\n",
       "      <th>1981</th>\n",
       "      <th>1982</th>\n",
       "      <th>1983</th>\n",
       "      <th>1984</th>\n",
       "      <th>1985</th>\n",
       "      <th>1986</th>\n",
       "      <th>1987</th>\n",
       "      <th>1988</th>\n",
       "      <th>1989</th>\n",
       "      <th>1990</th>\n",
       "      <th>...</th>\n",
       "      <th>2007</th>\n",
       "      <th>2008</th>\n",
       "      <th>2009</th>\n",
       "      <th>2010</th>\n",
       "      <th>2011</th>\n",
       "      <th>2012</th>\n",
       "      <th>2013</th>\n",
       "      <th>2014</th>\n",
       "      <th>2015</th>\n",
       "      <th>2016</th>\n",
       "    </tr>\n",
       "  </thead>\n",
       "  <tbody>\n",
       "    <tr>\n",
       "      <th>0</th>\n",
       "      <td>0.06</td>\n",
       "      <td>0.20</td>\n",
       "      <td>-0.26</td>\n",
       "      <td>0.21</td>\n",
       "      <td>0.41</td>\n",
       "      <td>0.00</td>\n",
       "      <td>0.00</td>\n",
       "      <td>-1.07</td>\n",
       "      <td>-0.47</td>\n",
       "      <td>0.34</td>\n",
       "      <td>...</td>\n",
       "      <td>0.00</td>\n",
       "      <td>0.00</td>\n",
       "      <td>0.50</td>\n",
       "      <td>0.00</td>\n",
       "      <td>-0.98</td>\n",
       "      <td>0.00</td>\n",
       "      <td>0.00</td>\n",
       "      <td>0.06</td>\n",
       "      <td>0.070</td>\n",
       "      <td>-0.10</td>\n",
       "    </tr>\n",
       "    <tr>\n",
       "      <th>1</th>\n",
       "      <td>0.00</td>\n",
       "      <td>0.00</td>\n",
       "      <td>0.00</td>\n",
       "      <td>0.47</td>\n",
       "      <td>0.20</td>\n",
       "      <td>-0.14</td>\n",
       "      <td>0.14</td>\n",
       "      <td>-0.87</td>\n",
       "      <td>-0.34</td>\n",
       "      <td>0.27</td>\n",
       "      <td>...</td>\n",
       "      <td>-0.07</td>\n",
       "      <td>0.21</td>\n",
       "      <td>0.14</td>\n",
       "      <td>0.00</td>\n",
       "      <td>-0.74</td>\n",
       "      <td>-0.06</td>\n",
       "      <td>0.00</td>\n",
       "      <td>0.74</td>\n",
       "      <td>0.100</td>\n",
       "      <td>-0.20</td>\n",
       "    </tr>\n",
       "    <tr>\n",
       "      <th>2</th>\n",
       "      <td>0.20</td>\n",
       "      <td>0.00</td>\n",
       "      <td>-0.20</td>\n",
       "      <td>0.54</td>\n",
       "      <td>0.94</td>\n",
       "      <td>-0.27</td>\n",
       "      <td>0.20</td>\n",
       "      <td>-1.01</td>\n",
       "      <td>0.00</td>\n",
       "      <td>0.74</td>\n",
       "      <td>...</td>\n",
       "      <td>0.00</td>\n",
       "      <td>0.21</td>\n",
       "      <td>0.00</td>\n",
       "      <td>0.00</td>\n",
       "      <td>-0.61</td>\n",
       "      <td>0.13</td>\n",
       "      <td>0.00</td>\n",
       "      <td>-0.13</td>\n",
       "      <td>0.140</td>\n",
       "      <td>0.00</td>\n",
       "    </tr>\n",
       "    <tr>\n",
       "      <th>3</th>\n",
       "      <td>0.00</td>\n",
       "      <td>0.33</td>\n",
       "      <td>0.07</td>\n",
       "      <td>-0.64</td>\n",
       "      <td>-1.08</td>\n",
       "      <td>0.64</td>\n",
       "      <td>0.27</td>\n",
       "      <td>-0.87</td>\n",
       "      <td>0.00</td>\n",
       "      <td>-0.20</td>\n",
       "      <td>...</td>\n",
       "      <td>-0.06</td>\n",
       "      <td>0.00</td>\n",
       "      <td>0.00</td>\n",
       "      <td>0.48</td>\n",
       "      <td>-0.14</td>\n",
       "      <td>-0.13</td>\n",
       "      <td>0.27</td>\n",
       "      <td>0.00</td>\n",
       "      <td>-0.305</td>\n",
       "      <td>0.07</td>\n",
       "    </tr>\n",
       "    <tr>\n",
       "      <th>4</th>\n",
       "      <td>-0.47</td>\n",
       "      <td>0.20</td>\n",
       "      <td>0.74</td>\n",
       "      <td>0.00</td>\n",
       "      <td>-0.74</td>\n",
       "      <td>0.00</td>\n",
       "      <td>0.67</td>\n",
       "      <td>0.00</td>\n",
       "      <td>-0.40</td>\n",
       "      <td>0.00</td>\n",
       "      <td>...</td>\n",
       "      <td>-0.27</td>\n",
       "      <td>-0.07</td>\n",
       "      <td>0.00</td>\n",
       "      <td>0.13</td>\n",
       "      <td>0.47</td>\n",
       "      <td>-0.07</td>\n",
       "      <td>0.07</td>\n",
       "      <td>0.00</td>\n",
       "      <td>-0.435</td>\n",
       "      <td>0.74</td>\n",
       "    </tr>\n",
       "  </tbody>\n",
       "</table>\n",
       "<p>5 rows × 36 columns</p>\n",
       "</div>"
      ],
      "text/plain": [
       "   1981  1982  1983  1984  1985  1986  1987  1988  1989  1990  ...  2007  \\\n",
       "0  0.06  0.20 -0.26  0.21  0.41  0.00  0.00 -1.07 -0.47  0.34  ...  0.00   \n",
       "1  0.00  0.00  0.00  0.47  0.20 -0.14  0.14 -0.87 -0.34  0.27  ... -0.07   \n",
       "2  0.20  0.00 -0.20  0.54  0.94 -0.27  0.20 -1.01  0.00  0.74  ...  0.00   \n",
       "3  0.00  0.33  0.07 -0.64 -1.08  0.64  0.27 -0.87  0.00 -0.20  ... -0.06   \n",
       "4 -0.47  0.20  0.74  0.00 -0.74  0.00  0.67  0.00 -0.40  0.00  ... -0.27   \n",
       "\n",
       "   2008  2009  2010  2011  2012  2013  2014   2015  2016  \n",
       "0  0.00  0.50  0.00 -0.98  0.00  0.00  0.06  0.070 -0.10  \n",
       "1  0.21  0.14  0.00 -0.74 -0.06  0.00  0.74  0.100 -0.20  \n",
       "2  0.21  0.00  0.00 -0.61  0.13  0.00 -0.13  0.140  0.00  \n",
       "3  0.00  0.00  0.48 -0.14 -0.13  0.27  0.00 -0.305  0.07  \n",
       "4 -0.07  0.00  0.13  0.47 -0.07  0.07  0.00 -0.435  0.74  \n",
       "\n",
       "[5 rows x 36 columns]"
      ]
     },
     "execution_count": 11,
     "metadata": {},
     "output_type": "execute_result"
    }
   ],
   "source": [
    "yields.iloc[:,22:].head()"
   ]
  },
  {
   "cell_type": "code",
   "execution_count": 74,
   "metadata": {},
   "outputs": [
    {
     "data": {
      "text/html": [
       "<div>\n",
       "<style scoped>\n",
       "    .dataframe tbody tr th:only-of-type {\n",
       "        vertical-align: middle;\n",
       "    }\n",
       "\n",
       "    .dataframe tbody tr th {\n",
       "        vertical-align: top;\n",
       "    }\n",
       "\n",
       "    .dataframe thead th {\n",
       "        text-align: right;\n",
       "    }\n",
       "</style>\n",
       "<table border=\"1\" class=\"dataframe\">\n",
       "  <thead>\n",
       "    <tr style=\"text-align: right;\">\n",
       "      <th></th>\n",
       "      <th>Unnamed: 0</th>\n",
       "      <th>Region</th>\n",
       "      <th>1961</th>\n",
       "      <th>1962</th>\n",
       "      <th>1963</th>\n",
       "      <th>1964</th>\n",
       "      <th>1965</th>\n",
       "      <th>1966</th>\n",
       "      <th>1967</th>\n",
       "      <th>1968</th>\n",
       "      <th>...</th>\n",
       "      <th>2007</th>\n",
       "      <th>2008</th>\n",
       "      <th>2009</th>\n",
       "      <th>2010</th>\n",
       "      <th>2011</th>\n",
       "      <th>2012</th>\n",
       "      <th>2013</th>\n",
       "      <th>2014</th>\n",
       "      <th>2015</th>\n",
       "      <th>2016</th>\n",
       "    </tr>\n",
       "  </thead>\n",
       "  <tbody>\n",
       "    <tr>\n",
       "      <th>0</th>\n",
       "      <td>0</td>\n",
       "      <td>Wheat_Spring_USA_NorthDakota</td>\n",
       "      <td>NaN</td>\n",
       "      <td>NaN</td>\n",
       "      <td>NaN</td>\n",
       "      <td>NaN</td>\n",
       "      <td>NaN</td>\n",
       "      <td>NaN</td>\n",
       "      <td>NaN</td>\n",
       "      <td>NaN</td>\n",
       "      <td>...</td>\n",
       "      <td>0.00</td>\n",
       "      <td>0.00</td>\n",
       "      <td>0.50</td>\n",
       "      <td>0.00</td>\n",
       "      <td>-0.98</td>\n",
       "      <td>0.00</td>\n",
       "      <td>0.00</td>\n",
       "      <td>0.06</td>\n",
       "      <td>0.070</td>\n",
       "      <td>-0.10</td>\n",
       "    </tr>\n",
       "    <tr>\n",
       "      <th>1</th>\n",
       "      <td>1</td>\n",
       "      <td>Wheat_Spring_USA_SouthDakota</td>\n",
       "      <td>NaN</td>\n",
       "      <td>NaN</td>\n",
       "      <td>NaN</td>\n",
       "      <td>NaN</td>\n",
       "      <td>NaN</td>\n",
       "      <td>NaN</td>\n",
       "      <td>NaN</td>\n",
       "      <td>NaN</td>\n",
       "      <td>...</td>\n",
       "      <td>-0.07</td>\n",
       "      <td>0.21</td>\n",
       "      <td>0.14</td>\n",
       "      <td>0.00</td>\n",
       "      <td>-0.74</td>\n",
       "      <td>-0.06</td>\n",
       "      <td>0.00</td>\n",
       "      <td>0.74</td>\n",
       "      <td>0.100</td>\n",
       "      <td>-0.20</td>\n",
       "    </tr>\n",
       "    <tr>\n",
       "      <th>2</th>\n",
       "      <td>2</td>\n",
       "      <td>Wheat_Spring_USA_Minnesota</td>\n",
       "      <td>NaN</td>\n",
       "      <td>NaN</td>\n",
       "      <td>NaN</td>\n",
       "      <td>NaN</td>\n",
       "      <td>NaN</td>\n",
       "      <td>NaN</td>\n",
       "      <td>NaN</td>\n",
       "      <td>NaN</td>\n",
       "      <td>...</td>\n",
       "      <td>0.00</td>\n",
       "      <td>0.21</td>\n",
       "      <td>0.00</td>\n",
       "      <td>0.00</td>\n",
       "      <td>-0.61</td>\n",
       "      <td>0.13</td>\n",
       "      <td>0.00</td>\n",
       "      <td>-0.13</td>\n",
       "      <td>0.140</td>\n",
       "      <td>0.00</td>\n",
       "    </tr>\n",
       "    <tr>\n",
       "      <th>3</th>\n",
       "      <td>3</td>\n",
       "      <td>Wheat_Spring_USA_Montana</td>\n",
       "      <td>NaN</td>\n",
       "      <td>NaN</td>\n",
       "      <td>NaN</td>\n",
       "      <td>NaN</td>\n",
       "      <td>NaN</td>\n",
       "      <td>NaN</td>\n",
       "      <td>NaN</td>\n",
       "      <td>NaN</td>\n",
       "      <td>...</td>\n",
       "      <td>-0.06</td>\n",
       "      <td>0.00</td>\n",
       "      <td>0.00</td>\n",
       "      <td>0.48</td>\n",
       "      <td>-0.14</td>\n",
       "      <td>-0.13</td>\n",
       "      <td>0.27</td>\n",
       "      <td>0.00</td>\n",
       "      <td>-0.305</td>\n",
       "      <td>0.07</td>\n",
       "    </tr>\n",
       "    <tr>\n",
       "      <th>4</th>\n",
       "      <td>4</td>\n",
       "      <td>Wheat_Spring_USA_Idaho</td>\n",
       "      <td>NaN</td>\n",
       "      <td>NaN</td>\n",
       "      <td>NaN</td>\n",
       "      <td>NaN</td>\n",
       "      <td>NaN</td>\n",
       "      <td>NaN</td>\n",
       "      <td>NaN</td>\n",
       "      <td>NaN</td>\n",
       "      <td>...</td>\n",
       "      <td>-0.27</td>\n",
       "      <td>-0.07</td>\n",
       "      <td>0.00</td>\n",
       "      <td>0.13</td>\n",
       "      <td>0.47</td>\n",
       "      <td>-0.07</td>\n",
       "      <td>0.07</td>\n",
       "      <td>0.00</td>\n",
       "      <td>-0.435</td>\n",
       "      <td>0.74</td>\n",
       "    </tr>\n",
       "  </tbody>\n",
       "</table>\n",
       "<p>5 rows × 58 columns</p>\n",
       "</div>"
      ],
      "text/plain": [
       "   Unnamed: 0                        Region  1961  1962  1963  1964  1965  \\\n",
       "0           0  Wheat_Spring_USA_NorthDakota   NaN   NaN   NaN   NaN   NaN   \n",
       "1           1  Wheat_Spring_USA_SouthDakota   NaN   NaN   NaN   NaN   NaN   \n",
       "2           2    Wheat_Spring_USA_Minnesota   NaN   NaN   NaN   NaN   NaN   \n",
       "3           3      Wheat_Spring_USA_Montana   NaN   NaN   NaN   NaN   NaN   \n",
       "4           4        Wheat_Spring_USA_Idaho   NaN   NaN   NaN   NaN   NaN   \n",
       "\n",
       "   1966  1967  1968  ...  2007  2008  2009  2010  2011  2012  2013  2014  \\\n",
       "0   NaN   NaN   NaN  ...  0.00  0.00  0.50  0.00 -0.98  0.00  0.00  0.06   \n",
       "1   NaN   NaN   NaN  ... -0.07  0.21  0.14  0.00 -0.74 -0.06  0.00  0.74   \n",
       "2   NaN   NaN   NaN  ...  0.00  0.21  0.00  0.00 -0.61  0.13  0.00 -0.13   \n",
       "3   NaN   NaN   NaN  ... -0.06  0.00  0.00  0.48 -0.14 -0.13  0.27  0.00   \n",
       "4   NaN   NaN   NaN  ... -0.27 -0.07  0.00  0.13  0.47 -0.07  0.07  0.00   \n",
       "\n",
       "    2015  2016  \n",
       "0  0.070 -0.10  \n",
       "1  0.100 -0.20  \n",
       "2  0.140  0.00  \n",
       "3 -0.305  0.07  \n",
       "4 -0.435  0.74  \n",
       "\n",
       "[5 rows x 58 columns]"
      ]
     },
     "execution_count": 74,
     "metadata": {},
     "output_type": "execute_result"
    }
   ],
   "source": [
    "yields.head()"
   ]
  },
  {
   "cell_type": "code",
   "execution_count": null,
   "metadata": {},
   "outputs": [],
   "source": [
    "# TO DO: GET DATA\n",
    "# start with one location/one weather\n",
    "#  calculate the yield anomily per year per location from Allcult.csv\n",
    "#  weather  - average the anomily over the month\n",
    "#  np.arrays of the right shape for d_temp and d_yields"
   ]
  },
  {
   "cell_type": "code",
   "execution_count": 12,
   "metadata": {},
   "outputs": [],
   "source": [
    "n_years=np.array(yields[yields['Region']=='Wheat_Spring_Canada_Alberta'].iloc[0,23:]).size\n",
    "data={\n",
    "    'n_regions':2,\n",
    "    'n_years':n_years,\n",
    "    'd_temp':np.array(temp_states.iloc[:,1:]).reshape(len(states),int(np.array(temp_states.iloc[:,1:]).shape[0]/len(states)),12),\n",
    "    'd_yields':np.array(yields[yields[\"Region\"].isin(['Wheat_Spring_Canada_'+s for s in states])].iloc[:,23:]).astype(float)\n",
    "}"
   ]
  },
  {
   "cell_type": "code",
   "execution_count": 15,
   "metadata": {},
   "outputs": [
    {
     "data": {
      "text/html": [
       "<div>\n",
       "<style scoped>\n",
       "    .dataframe tbody tr th:only-of-type {\n",
       "        vertical-align: middle;\n",
       "    }\n",
       "\n",
       "    .dataframe tbody tr th {\n",
       "        vertical-align: top;\n",
       "    }\n",
       "\n",
       "    .dataframe thead th {\n",
       "        text-align: right;\n",
       "    }\n",
       "</style>\n",
       "<table border=\"1\" class=\"dataframe\">\n",
       "  <thead>\n",
       "    <tr style=\"text-align: right;\">\n",
       "      <th></th>\n",
       "      <th></th>\n",
       "      <th>Jan</th>\n",
       "      <th>Feb</th>\n",
       "      <th>Mar</th>\n",
       "      <th>Apr</th>\n",
       "      <th>May</th>\n",
       "      <th>Jun</th>\n",
       "      <th>Jul</th>\n",
       "      <th>Aug</th>\n",
       "      <th>Sep</th>\n",
       "      <th>Oct</th>\n",
       "      <th>Nov</th>\n",
       "      <th>Dec</th>\n",
       "    </tr>\n",
       "  </thead>\n",
       "  <tbody>\n",
       "    <tr>\n",
       "      <th rowspan=\"5\" valign=\"top\">Alberta</th>\n",
       "      <th>0</th>\n",
       "      <td>-4.558863</td>\n",
       "      <td>-0.574979</td>\n",
       "      <td>-2.798692</td>\n",
       "      <td>4.118739</td>\n",
       "      <td>1.562480</td>\n",
       "      <td>0.240780</td>\n",
       "      <td>-0.367725</td>\n",
       "      <td>-2.662456</td>\n",
       "      <td>-0.560231</td>\n",
       "      <td>1.883408</td>\n",
       "      <td>3.998546</td>\n",
       "      <td>-2.773745</td>\n",
       "    </tr>\n",
       "    <tr>\n",
       "      <th>1</th>\n",
       "      <td>6.194938</td>\n",
       "      <td>2.457207</td>\n",
       "      <td>3.895042</td>\n",
       "      <td>1.024020</td>\n",
       "      <td>0.827557</td>\n",
       "      <td>-1.421037</td>\n",
       "      <td>-0.478416</td>\n",
       "      <td>2.087318</td>\n",
       "      <td>1.353523</td>\n",
       "      <td>-0.200117</td>\n",
       "      <td>4.931022</td>\n",
       "      <td>-0.090454</td>\n",
       "    </tr>\n",
       "    <tr>\n",
       "      <th>2</th>\n",
       "      <td>-10.900981</td>\n",
       "      <td>-4.814200</td>\n",
       "      <td>-3.396243</td>\n",
       "      <td>-3.497221</td>\n",
       "      <td>-0.900914</td>\n",
       "      <td>0.349226</td>\n",
       "      <td>-0.682542</td>\n",
       "      <td>-1.136625</td>\n",
       "      <td>-0.232160</td>\n",
       "      <td>0.839836</td>\n",
       "      <td>-3.030403</td>\n",
       "      <td>1.558304</td>\n",
       "    </tr>\n",
       "    <tr>\n",
       "      <th>3</th>\n",
       "      <td>2.506302</td>\n",
       "      <td>3.366720</td>\n",
       "      <td>0.371425</td>\n",
       "      <td>-0.064983</td>\n",
       "      <td>-0.287808</td>\n",
       "      <td>0.113660</td>\n",
       "      <td>-0.173004</td>\n",
       "      <td>2.217630</td>\n",
       "      <td>-1.737185</td>\n",
       "      <td>1.387547</td>\n",
       "      <td>1.425035</td>\n",
       "      <td>-9.816836</td>\n",
       "    </tr>\n",
       "    <tr>\n",
       "      <th>4</th>\n",
       "      <td>3.102367</td>\n",
       "      <td>6.406299</td>\n",
       "      <td>0.304728</td>\n",
       "      <td>1.422145</td>\n",
       "      <td>-0.922846</td>\n",
       "      <td>0.083128</td>\n",
       "      <td>0.487475</td>\n",
       "      <td>1.637315</td>\n",
       "      <td>-3.159880</td>\n",
       "      <td>-2.961023</td>\n",
       "      <td>-2.889469</td>\n",
       "      <td>-5.568326</td>\n",
       "    </tr>\n",
       "    <tr>\n",
       "      <th>...</th>\n",
       "      <th>...</th>\n",
       "      <td>...</td>\n",
       "      <td>...</td>\n",
       "      <td>...</td>\n",
       "      <td>...</td>\n",
       "      <td>...</td>\n",
       "      <td>...</td>\n",
       "      <td>...</td>\n",
       "      <td>...</td>\n",
       "      <td>...</td>\n",
       "      <td>...</td>\n",
       "      <td>...</td>\n",
       "      <td>...</td>\n",
       "    </tr>\n",
       "    <tr>\n",
       "      <th rowspan=\"5\" valign=\"top\">Manitoba</th>\n",
       "      <th>30</th>\n",
       "      <td>1.557544</td>\n",
       "      <td>-0.887460</td>\n",
       "      <td>4.940868</td>\n",
       "      <td>3.157253</td>\n",
       "      <td>-0.543598</td>\n",
       "      <td>-0.336449</td>\n",
       "      <td>-0.127990</td>\n",
       "      <td>0.418606</td>\n",
       "      <td>-1.501435</td>\n",
       "      <td>2.700117</td>\n",
       "      <td>0.582945</td>\n",
       "      <td>-0.991773</td>\n",
       "    </tr>\n",
       "    <tr>\n",
       "      <th>31</th>\n",
       "      <td>-2.278410</td>\n",
       "      <td>-1.839722</td>\n",
       "      <td>-3.848011</td>\n",
       "      <td>-0.993598</td>\n",
       "      <td>-0.847159</td>\n",
       "      <td>0.207856</td>\n",
       "      <td>1.153139</td>\n",
       "      <td>1.268239</td>\n",
       "      <td>1.580348</td>\n",
       "      <td>3.075179</td>\n",
       "      <td>1.834650</td>\n",
       "      <td>5.208262</td>\n",
       "    </tr>\n",
       "    <tr>\n",
       "      <th>32</th>\n",
       "      <td>4.810616</td>\n",
       "      <td>3.856552</td>\n",
       "      <td>6.696579</td>\n",
       "      <td>1.395884</td>\n",
       "      <td>0.581980</td>\n",
       "      <td>1.026793</td>\n",
       "      <td>2.506654</td>\n",
       "      <td>0.125219</td>\n",
       "      <td>0.460480</td>\n",
       "      <td>-1.666039</td>\n",
       "      <td>-1.480355</td>\n",
       "      <td>-1.786686</td>\n",
       "    </tr>\n",
       "    <tr>\n",
       "      <th>33</th>\n",
       "      <td>-0.808215</td>\n",
       "      <td>0.436829</td>\n",
       "      <td>-5.164640</td>\n",
       "      <td>-5.923650</td>\n",
       "      <td>0.018805</td>\n",
       "      <td>0.284077</td>\n",
       "      <td>-0.750274</td>\n",
       "      <td>0.332055</td>\n",
       "      <td>2.822316</td>\n",
       "      <td>-0.836977</td>\n",
       "      <td>-1.112143</td>\n",
       "      <td>-6.764350</td>\n",
       "    </tr>\n",
       "    <tr>\n",
       "      <th>34</th>\n",
       "      <td>-1.961548</td>\n",
       "      <td>-6.330203</td>\n",
       "      <td>-5.050094</td>\n",
       "      <td>-3.035383</td>\n",
       "      <td>-0.390495</td>\n",
       "      <td>-0.441368</td>\n",
       "      <td>-1.010665</td>\n",
       "      <td>0.413526</td>\n",
       "      <td>0.244451</td>\n",
       "      <td>1.455376</td>\n",
       "      <td>-4.317085</td>\n",
       "      <td>4.174258</td>\n",
       "    </tr>\n",
       "  </tbody>\n",
       "</table>\n",
       "<p>70 rows × 12 columns</p>\n",
       "</div>"
      ],
      "text/plain": [
       "                   Jan       Feb       Mar       Apr       May       Jun  \\\n",
       "Alberta  0   -4.558863 -0.574979 -2.798692  4.118739  1.562480  0.240780   \n",
       "         1    6.194938  2.457207  3.895042  1.024020  0.827557 -1.421037   \n",
       "         2  -10.900981 -4.814200 -3.396243 -3.497221 -0.900914  0.349226   \n",
       "         3    2.506302  3.366720  0.371425 -0.064983 -0.287808  0.113660   \n",
       "         4    3.102367  6.406299  0.304728  1.422145 -0.922846  0.083128   \n",
       "...                ...       ...       ...       ...       ...       ...   \n",
       "Manitoba 30   1.557544 -0.887460  4.940868  3.157253 -0.543598 -0.336449   \n",
       "         31  -2.278410 -1.839722 -3.848011 -0.993598 -0.847159  0.207856   \n",
       "         32   4.810616  3.856552  6.696579  1.395884  0.581980  1.026793   \n",
       "         33  -0.808215  0.436829 -5.164640 -5.923650  0.018805  0.284077   \n",
       "         34  -1.961548 -6.330203 -5.050094 -3.035383 -0.390495 -0.441368   \n",
       "\n",
       "                  Jul       Aug       Sep       Oct       Nov       Dec  \n",
       "Alberta  0  -0.367725 -2.662456 -0.560231  1.883408  3.998546 -2.773745  \n",
       "         1  -0.478416  2.087318  1.353523 -0.200117  4.931022 -0.090454  \n",
       "         2  -0.682542 -1.136625 -0.232160  0.839836 -3.030403  1.558304  \n",
       "         3  -0.173004  2.217630 -1.737185  1.387547  1.425035 -9.816836  \n",
       "         4   0.487475  1.637315 -3.159880 -2.961023 -2.889469 -5.568326  \n",
       "...               ...       ...       ...       ...       ...       ...  \n",
       "Manitoba 30 -0.127990  0.418606 -1.501435  2.700117  0.582945 -0.991773  \n",
       "         31  1.153139  1.268239  1.580348  3.075179  1.834650  5.208262  \n",
       "         32  2.506654  0.125219  0.460480 -1.666039 -1.480355 -1.786686  \n",
       "         33 -0.750274  0.332055  2.822316 -0.836977 -1.112143 -6.764350  \n",
       "         34 -1.010665  0.413526  0.244451  1.455376 -4.317085  4.174258  \n",
       "\n",
       "[70 rows x 12 columns]"
      ]
     },
     "execution_count": 15,
     "metadata": {},
     "output_type": "execute_result"
    }
   ],
   "source": [
    "# n_years\n",
    "# data['d_temp'].shape\n",
    "temp_states.iloc[:,1:]"
   ]
  },
  {
   "cell_type": "code",
   "execution_count": 77,
   "metadata": {},
   "outputs": [
    {
     "data": {
      "text/html": [
       "<div>\n",
       "<style scoped>\n",
       "    .dataframe tbody tr th:only-of-type {\n",
       "        vertical-align: middle;\n",
       "    }\n",
       "\n",
       "    .dataframe tbody tr th {\n",
       "        vertical-align: top;\n",
       "    }\n",
       "\n",
       "    .dataframe thead th {\n",
       "        text-align: right;\n",
       "    }\n",
       "</style>\n",
       "<table border=\"1\" class=\"dataframe\">\n",
       "  <thead>\n",
       "    <tr style=\"text-align: right;\">\n",
       "      <th></th>\n",
       "      <th>1982</th>\n",
       "      <th>1983</th>\n",
       "      <th>1984</th>\n",
       "      <th>1985</th>\n",
       "      <th>1986</th>\n",
       "      <th>1987</th>\n",
       "      <th>1988</th>\n",
       "      <th>1989</th>\n",
       "      <th>1990</th>\n",
       "      <th>1991</th>\n",
       "      <th>...</th>\n",
       "      <th>2007</th>\n",
       "      <th>2008</th>\n",
       "      <th>2009</th>\n",
       "      <th>2010</th>\n",
       "      <th>2011</th>\n",
       "      <th>2012</th>\n",
       "      <th>2013</th>\n",
       "      <th>2014</th>\n",
       "      <th>2015</th>\n",
       "      <th>2016</th>\n",
       "    </tr>\n",
       "  </thead>\n",
       "  <tbody>\n",
       "    <tr>\n",
       "      <th>13</th>\n",
       "      <td>0.20</td>\n",
       "      <td>-0.28</td>\n",
       "      <td>-0.11</td>\n",
       "      <td>0.57</td>\n",
       "      <td>0.11</td>\n",
       "      <td>0.0</td>\n",
       "      <td>-0.8</td>\n",
       "      <td>0.0</td>\n",
       "      <td>0.5</td>\n",
       "      <td>0.0</td>\n",
       "      <td>...</td>\n",
       "      <td>-0.2</td>\n",
       "      <td>0.4</td>\n",
       "      <td>0.5</td>\n",
       "      <td>-0.3</td>\n",
       "      <td>-0.5</td>\n",
       "      <td>0.0</td>\n",
       "      <td>0.5</td>\n",
       "      <td>0.0</td>\n",
       "      <td>-0.05</td>\n",
       "      <td>0.1</td>\n",
       "    </tr>\n",
       "    <tr>\n",
       "      <th>15</th>\n",
       "      <td>-0.02</td>\n",
       "      <td>0.02</td>\n",
       "      <td>-0.48</td>\n",
       "      <td>-0.23</td>\n",
       "      <td>0.40</td>\n",
       "      <td>-0.1</td>\n",
       "      <td>-0.1</td>\n",
       "      <td>0.0</td>\n",
       "      <td>0.2</td>\n",
       "      <td>0.2</td>\n",
       "      <td>...</td>\n",
       "      <td>-0.2</td>\n",
       "      <td>0.3</td>\n",
       "      <td>-0.3</td>\n",
       "      <td>-0.1</td>\n",
       "      <td>0.1</td>\n",
       "      <td>-0.1</td>\n",
       "      <td>0.6</td>\n",
       "      <td>0.0</td>\n",
       "      <td>-0.40</td>\n",
       "      <td>0.2</td>\n",
       "    </tr>\n",
       "  </tbody>\n",
       "</table>\n",
       "<p>2 rows × 35 columns</p>\n",
       "</div>"
      ],
      "text/plain": [
       "    1982  1983  1984  1985  1986  1987  1988  1989  1990  1991  ...  2007  \\\n",
       "13  0.20 -0.28 -0.11  0.57  0.11   0.0  -0.8   0.0   0.5   0.0  ...  -0.2   \n",
       "15 -0.02  0.02 -0.48 -0.23  0.40  -0.1  -0.1   0.0   0.2   0.2  ...  -0.2   \n",
       "\n",
       "    2008  2009  2010  2011  2012  2013  2014  2015  2016  \n",
       "13   0.4   0.5  -0.3  -0.5   0.0   0.5   0.0 -0.05   0.1  \n",
       "15   0.3  -0.3  -0.1   0.1  -0.1   0.6   0.0 -0.40   0.2  \n",
       "\n",
       "[2 rows x 35 columns]"
      ]
     },
     "execution_count": 77,
     "metadata": {},
     "output_type": "execute_result"
    }
   ],
   "source": [
    "yields[yields[\"Region\"].isin(['Wheat_Spring_Canada_'+s for s in states])].iloc[:,23:]"
   ]
  },
  {
   "cell_type": "code",
   "execution_count": 78,
   "metadata": {},
   "outputs": [
    {
     "name": "stdout",
     "output_type": "stream",
     "text": [
      "Building...\n"
     ]
    },
    {
     "name": "stderr",
     "output_type": "stream",
     "text": [
      "\n",
      "Building: found in cache, done.Messages from stanc:\n",
      "Warning in '/var/folders/m7/fqkk2h3d5rlbg6_z4yfy3dc4000z5d/T/httpstan_8ls7lxt3/model_2wdzshqy.stan', line 28, column 24: Argument 100.0 suggests there may be parameters that are not unit scale; consider rescaling with a multiplier (see manual section 22.12).\n"
     ]
    }
   ],
   "source": [
    "sm = stan.build(model, data=data)"
   ]
  },
  {
   "cell_type": "code",
   "execution_count": 79,
   "metadata": {},
   "outputs": [
    {
     "data": {
      "text/plain": [
       "stan.model.Model"
      ]
     },
     "execution_count": 79,
     "metadata": {},
     "output_type": "execute_result"
    }
   ],
   "source": [
    "type(sm)"
   ]
  },
  {
   "cell_type": "code",
   "execution_count": 80,
   "metadata": {},
   "outputs": [
    {
     "name": "stderr",
     "output_type": "stream",
     "text": [
      "Sampling:   0%\n",
      "Sampling:   1% (100/8000)\n",
      "Sampling:   4% (300/8000)\n",
      "Sampling:   6% (500/8000)\n",
      "Sampling:  10% (800/8000)\n",
      "Sampling:  19% (1500/8000)\n",
      "Sampling:  28% (2200/8000)\n",
      "Sampling:  50% (4000/8000)\n",
      "Sampling:  71% (5700/8000)\n",
      "Sampling:  86% (6900/8000)\n",
      "Sampling: 100% (8000/8000)\n",
      "Sampling: 100% (8000/8000), done.\n",
      "Messages received during sampling:\n",
      "  Gradient evaluation took 0.000241 seconds\n",
      "  1000 transitions using 10 leapfrog steps per transition would take 2.41 seconds.\n",
      "  Adjust your expectations accordingly!\n",
      "  Gradient evaluation took 0.000227 seconds\n",
      "  1000 transitions using 10 leapfrog steps per transition would take 2.27 seconds.\n",
      "  Adjust your expectations accordingly!\n",
      "  Gradient evaluation took 0.000223 seconds\n",
      "  1000 transitions using 10 leapfrog steps per transition would take 2.23 seconds.\n",
      "  Adjust your expectations accordingly!\n",
      "  Gradient evaluation took 0.00081 seconds\n",
      "  1000 transitions using 10 leapfrog steps per transition would take 8.1 seconds.\n",
      "  Adjust your expectations accordingly!\n"
     ]
    },
    {
     "data": {
      "text/plain": [
       "stan.fit.Fit"
      ]
     },
     "execution_count": 80,
     "metadata": {},
     "output_type": "execute_result"
    }
   ],
   "source": [
    "fit=sm.sample(num_chains=4,num_samples=1000)\n",
    "type(fit)"
   ]
  },
  {
   "cell_type": "code",
   "execution_count": 81,
   "metadata": {},
   "outputs": [
    {
     "data": {
      "text/html": [
       "<div>\n",
       "<style scoped>\n",
       "    .dataframe tbody tr th:only-of-type {\n",
       "        vertical-align: middle;\n",
       "    }\n",
       "\n",
       "    .dataframe tbody tr th {\n",
       "        vertical-align: top;\n",
       "    }\n",
       "\n",
       "    .dataframe thead th {\n",
       "        text-align: right;\n",
       "    }\n",
       "</style>\n",
       "<table border=\"1\" class=\"dataframe\">\n",
       "  <thead>\n",
       "    <tr style=\"text-align: right;\">\n",
       "      <th></th>\n",
       "      <th>count</th>\n",
       "      <th>mean</th>\n",
       "      <th>std</th>\n",
       "      <th>min</th>\n",
       "      <th>25%</th>\n",
       "      <th>50%</th>\n",
       "      <th>75%</th>\n",
       "      <th>max</th>\n",
       "    </tr>\n",
       "    <tr>\n",
       "      <th>parameters</th>\n",
       "      <th></th>\n",
       "      <th></th>\n",
       "      <th></th>\n",
       "      <th></th>\n",
       "      <th></th>\n",
       "      <th></th>\n",
       "      <th></th>\n",
       "      <th></th>\n",
       "    </tr>\n",
       "  </thead>\n",
       "  <tbody>\n",
       "    <tr>\n",
       "      <th>lp__</th>\n",
       "      <td>4000.0</td>\n",
       "      <td>-14.032831</td>\n",
       "      <td>3.485864</td>\n",
       "      <td>-29.186469</td>\n",
       "      <td>-16.211249</td>\n",
       "      <td>-13.647783</td>\n",
       "      <td>-11.533290</td>\n",
       "      <td>-4.931430</td>\n",
       "    </tr>\n",
       "    <tr>\n",
       "      <th>accept_stat__</th>\n",
       "      <td>4000.0</td>\n",
       "      <td>0.883672</td>\n",
       "      <td>0.109542</td>\n",
       "      <td>0.301341</td>\n",
       "      <td>0.828296</td>\n",
       "      <td>0.913526</td>\n",
       "      <td>0.970498</td>\n",
       "      <td>1.000000</td>\n",
       "    </tr>\n",
       "    <tr>\n",
       "      <th>stepsize__</th>\n",
       "      <td>4000.0</td>\n",
       "      <td>0.395279</td>\n",
       "      <td>0.025723</td>\n",
       "      <td>0.365790</td>\n",
       "      <td>0.380986</td>\n",
       "      <td>0.389495</td>\n",
       "      <td>0.403789</td>\n",
       "      <td>0.436336</td>\n",
       "    </tr>\n",
       "    <tr>\n",
       "      <th>treedepth__</th>\n",
       "      <td>4000.0</td>\n",
       "      <td>3.464500</td>\n",
       "      <td>0.499302</td>\n",
       "      <td>3.000000</td>\n",
       "      <td>3.000000</td>\n",
       "      <td>3.000000</td>\n",
       "      <td>4.000000</td>\n",
       "      <td>5.000000</td>\n",
       "    </tr>\n",
       "    <tr>\n",
       "      <th>n_leapfrog__</th>\n",
       "      <td>4000.0</td>\n",
       "      <td>12.308000</td>\n",
       "      <td>4.124729</td>\n",
       "      <td>7.000000</td>\n",
       "      <td>7.000000</td>\n",
       "      <td>15.000000</td>\n",
       "      <td>15.000000</td>\n",
       "      <td>55.000000</td>\n",
       "    </tr>\n",
       "    <tr>\n",
       "      <th>...</th>\n",
       "      <td>...</td>\n",
       "      <td>...</td>\n",
       "      <td>...</td>\n",
       "      <td>...</td>\n",
       "      <td>...</td>\n",
       "      <td>...</td>\n",
       "      <td>...</td>\n",
       "      <td>...</td>\n",
       "    </tr>\n",
       "    <tr>\n",
       "      <th>d_yields_pred.1.34</th>\n",
       "      <td>4000.0</td>\n",
       "      <td>0.079174</td>\n",
       "      <td>1.129109</td>\n",
       "      <td>-4.045244</td>\n",
       "      <td>-0.683458</td>\n",
       "      <td>0.090739</td>\n",
       "      <td>0.836287</td>\n",
       "      <td>3.814348</td>\n",
       "    </tr>\n",
       "    <tr>\n",
       "      <th>d_yields_pred.2.34</th>\n",
       "      <td>4000.0</td>\n",
       "      <td>-0.321861</td>\n",
       "      <td>1.205545</td>\n",
       "      <td>-4.527034</td>\n",
       "      <td>-1.133014</td>\n",
       "      <td>-0.341419</td>\n",
       "      <td>0.495745</td>\n",
       "      <td>3.686884</td>\n",
       "    </tr>\n",
       "    <tr>\n",
       "      <th>d_yields_pred.1.35</th>\n",
       "      <td>4000.0</td>\n",
       "      <td>-0.036054</td>\n",
       "      <td>1.144655</td>\n",
       "      <td>-4.479515</td>\n",
       "      <td>-0.803341</td>\n",
       "      <td>-0.049165</td>\n",
       "      <td>0.734818</td>\n",
       "      <td>4.218642</td>\n",
       "    </tr>\n",
       "    <tr>\n",
       "      <th>d_yields_pred.2.35</th>\n",
       "      <td>4000.0</td>\n",
       "      <td>0.231476</td>\n",
       "      <td>1.132132</td>\n",
       "      <td>-3.837773</td>\n",
       "      <td>-0.535462</td>\n",
       "      <td>0.257876</td>\n",
       "      <td>0.984538</td>\n",
       "      <td>3.886156</td>\n",
       "    </tr>\n",
       "    <tr>\n",
       "      <th>tmp</th>\n",
       "      <td>4000.0</td>\n",
       "      <td>0.252772</td>\n",
       "      <td>0.506732</td>\n",
       "      <td>-1.595635</td>\n",
       "      <td>-0.084440</td>\n",
       "      <td>0.259175</td>\n",
       "      <td>0.599182</td>\n",
       "      <td>2.059596</td>\n",
       "    </tr>\n",
       "  </tbody>\n",
       "</table>\n",
       "<p>102 rows × 8 columns</p>\n",
       "</div>"
      ],
      "text/plain": [
       "                     count       mean       std        min        25%  \\\n",
       "parameters                                                              \n",
       "lp__                4000.0 -14.032831  3.485864 -29.186469 -16.211249   \n",
       "accept_stat__       4000.0   0.883672  0.109542   0.301341   0.828296   \n",
       "stepsize__          4000.0   0.395279  0.025723   0.365790   0.380986   \n",
       "treedepth__         4000.0   3.464500  0.499302   3.000000   3.000000   \n",
       "n_leapfrog__        4000.0  12.308000  4.124729   7.000000   7.000000   \n",
       "...                    ...        ...       ...        ...        ...   \n",
       "d_yields_pred.1.34  4000.0   0.079174  1.129109  -4.045244  -0.683458   \n",
       "d_yields_pred.2.34  4000.0  -0.321861  1.205545  -4.527034  -1.133014   \n",
       "d_yields_pred.1.35  4000.0  -0.036054  1.144655  -4.479515  -0.803341   \n",
       "d_yields_pred.2.35  4000.0   0.231476  1.132132  -3.837773  -0.535462   \n",
       "tmp                 4000.0   0.252772  0.506732  -1.595635  -0.084440   \n",
       "\n",
       "                          50%        75%        max  \n",
       "parameters                                           \n",
       "lp__               -13.647783 -11.533290  -4.931430  \n",
       "accept_stat__        0.913526   0.970498   1.000000  \n",
       "stepsize__           0.389495   0.403789   0.436336  \n",
       "treedepth__          3.000000   4.000000   5.000000  \n",
       "n_leapfrog__        15.000000  15.000000  55.000000  \n",
       "...                       ...        ...        ...  \n",
       "d_yields_pred.1.34   0.090739   0.836287   3.814348  \n",
       "d_yields_pred.2.34  -0.341419   0.495745   3.686884  \n",
       "d_yields_pred.1.35  -0.049165   0.734818   4.218642  \n",
       "d_yields_pred.2.35   0.257876   0.984538   3.886156  \n",
       "tmp                  0.259175   0.599182   2.059596  \n",
       "\n",
       "[102 rows x 8 columns]"
      ]
     },
     "execution_count": 81,
     "metadata": {},
     "output_type": "execute_result"
    }
   ],
   "source": [
    "df = fit.to_frame()\n",
    "df.describe().T"
   ]
  },
  {
   "cell_type": "code",
   "execution_count": 136,
   "metadata": {},
   "outputs": [
    {
     "data": {
      "text/plain": [
       "['lp__',\n",
       " 'accept_stat__',\n",
       " 'stepsize__',\n",
       " 'treedepth__',\n",
       " 'n_leapfrog__',\n",
       " 'divergent__',\n",
       " 'energy__',\n",
       " 's_temp.1.1',\n",
       " 's_temp.2.1',\n",
       " 's_temp.1.2',\n",
       " 's_temp.2.2',\n",
       " 's_temp.1.3',\n",
       " 's_temp.2.3',\n",
       " 's_temp.1.4',\n",
       " 's_temp.2.4',\n",
       " 's_temp.1.5',\n",
       " 's_temp.2.5',\n",
       " 's_temp.1.6',\n",
       " 's_temp.2.6',\n",
       " 's_temp.1.7',\n",
       " 's_temp.2.7',\n",
       " 's_temp.1.8',\n",
       " 's_temp.2.8',\n",
       " 's_temp.1.9',\n",
       " 's_temp.2.9',\n",
       " 's_temp.1.10',\n",
       " 's_temp.2.10',\n",
       " 's_temp.1.11',\n",
       " 's_temp.2.11',\n",
       " 's_temp.1.12',\n",
       " 's_temp.2.12',\n",
       " 'd_yields_pred.1.1',\n",
       " 'd_yields_pred.2.1',\n",
       " 'd_yields_pred.1.2',\n",
       " 'd_yields_pred.2.2',\n",
       " 'd_yields_pred.1.3',\n",
       " 'd_yields_pred.2.3',\n",
       " 'd_yields_pred.1.4',\n",
       " 'd_yields_pred.2.4',\n",
       " 'd_yields_pred.1.5',\n",
       " 'd_yields_pred.2.5',\n",
       " 'd_yields_pred.1.6',\n",
       " 'd_yields_pred.2.6',\n",
       " 'd_yields_pred.1.7',\n",
       " 'd_yields_pred.2.7',\n",
       " 'd_yields_pred.1.8',\n",
       " 'd_yields_pred.2.8',\n",
       " 'd_yields_pred.1.9',\n",
       " 'd_yields_pred.2.9',\n",
       " 'd_yields_pred.1.10',\n",
       " 'd_yields_pred.2.10',\n",
       " 'd_yields_pred.1.11',\n",
       " 'd_yields_pred.2.11',\n",
       " 'd_yields_pred.1.12',\n",
       " 'd_yields_pred.2.12',\n",
       " 'd_yields_pred.1.13',\n",
       " 'd_yields_pred.2.13',\n",
       " 'd_yields_pred.1.14',\n",
       " 'd_yields_pred.2.14',\n",
       " 'd_yields_pred.1.15',\n",
       " 'd_yields_pred.2.15',\n",
       " 'd_yields_pred.1.16',\n",
       " 'd_yields_pred.2.16',\n",
       " 'd_yields_pred.1.17',\n",
       " 'd_yields_pred.2.17',\n",
       " 'd_yields_pred.1.18',\n",
       " 'd_yields_pred.2.18',\n",
       " 'd_yields_pred.1.19',\n",
       " 'd_yields_pred.2.19',\n",
       " 'd_yields_pred.1.20',\n",
       " 'd_yields_pred.2.20',\n",
       " 'd_yields_pred.1.21',\n",
       " 'd_yields_pred.2.21',\n",
       " 'd_yields_pred.1.22',\n",
       " 'd_yields_pred.2.22',\n",
       " 'd_yields_pred.1.23',\n",
       " 'd_yields_pred.2.23',\n",
       " 'd_yields_pred.1.24',\n",
       " 'd_yields_pred.2.24',\n",
       " 'd_yields_pred.1.25',\n",
       " 'd_yields_pred.2.25',\n",
       " 'd_yields_pred.1.26',\n",
       " 'd_yields_pred.2.26',\n",
       " 'd_yields_pred.1.27',\n",
       " 'd_yields_pred.2.27',\n",
       " 'd_yields_pred.1.28',\n",
       " 'd_yields_pred.2.28',\n",
       " 'd_yields_pred.1.29',\n",
       " 'd_yields_pred.2.29',\n",
       " 'd_yields_pred.1.30',\n",
       " 'd_yields_pred.2.30',\n",
       " 'd_yields_pred.1.31',\n",
       " 'd_yields_pred.2.31',\n",
       " 'd_yields_pred.1.32',\n",
       " 'd_yields_pred.2.32',\n",
       " 'd_yields_pred.1.33',\n",
       " 'd_yields_pred.2.33',\n",
       " 'd_yields_pred.1.34',\n",
       " 'd_yields_pred.2.34',\n",
       " 'd_yields_pred.1.35',\n",
       " 'd_yields_pred.2.35',\n",
       " 'tmp']"
      ]
     },
     "execution_count": 136,
     "metadata": {},
     "output_type": "execute_result"
    }
   ],
   "source": [
    "list(df.columns)"
   ]
  },
  {
   "cell_type": "code",
   "execution_count": 82,
   "metadata": {},
   "outputs": [
    {
     "data": {
      "text/plain": [
       "KeysView(<stan.Fit>\n",
       "Parameters:\n",
       "    s_temp: (2, 12)\n",
       "    d_yields_pred: (2, 35)\n",
       "    tmp: ()\n",
       "Draws: 4000)"
      ]
     },
     "execution_count": 82,
     "metadata": {},
     "output_type": "execute_result"
    }
   ],
   "source": [
    "fit.keys()\n",
    "# sampler_params = fit['d_yields_pred']\n",
    "# where has d_yields gone?"
   ]
  },
  {
   "cell_type": "code",
   "execution_count": 83,
   "metadata": {},
   "outputs": [
    {
     "data": {
      "text/plain": [
       "array([[[ 1.54088381e+00,  1.83308149e+00, -1.10831088e+00, ...,\n",
       "          1.56279019e+00, -1.24988209e-01,  8.41080675e-01],\n",
       "        [ 4.57271828e-01,  9.84449221e-02,  1.96914866e+00, ...,\n",
       "          1.15024280e+00,  1.35058823e+00,  1.67922746e-01],\n",
       "        [-1.56944411e+00,  1.12851128e+00,  4.24078558e-01, ...,\n",
       "         -1.24576169e+00,  2.61260016e-02, -8.33631369e-01],\n",
       "        ...,\n",
       "        [-9.19622743e-01, -2.76566265e-01,  2.03959571e+00, ...,\n",
       "          6.95331930e-01,  1.23056420e-01,  7.29012382e-01],\n",
       "        [-2.02988287e-01, -1.06733476e+00, -1.23185958e+00, ...,\n",
       "         -1.87270001e+00,  7.12722974e-01,  1.11536557e+00],\n",
       "        [ 8.13943619e-01, -1.47632173e-01, -9.40482631e-01, ...,\n",
       "         -1.74756216e+00, -1.05940703e+00, -1.57751968e+00]],\n",
       "\n",
       "       [[ 6.35593494e-01, -1.43668669e+00,  1.48146421e+00, ...,\n",
       "         -3.84464047e-01, -5.65771966e-02,  3.12431280e-01],\n",
       "        [ 3.73007984e-01, -1.92870031e+00, -8.08655863e-02, ...,\n",
       "          2.65613275e-01,  9.81851497e-01,  2.08880623e-01],\n",
       "        [ 1.84144834e+00, -1.92039693e+00,  9.40754016e-01, ...,\n",
       "          2.40200601e-01,  1.06971913e+00, -1.61600697e-01],\n",
       "        ...,\n",
       "        [-2.93301465e-01, -8.48185096e-01, -6.77297946e-01, ...,\n",
       "          2.49598767e+00,  4.96466568e-01, -2.29774419e+00],\n",
       "        [ 1.77837240e-01,  1.82847198e+00,  5.16722694e-01, ...,\n",
       "         -4.43997271e-02,  4.88354692e-01, -8.94690928e-02],\n",
       "        [ 6.46044326e-02, -1.61181844e-03, -3.83974348e-02, ...,\n",
       "         -7.95748642e-01,  9.76207203e-01, -1.08608367e+00]]])"
      ]
     },
     "execution_count": 83,
     "metadata": {},
     "output_type": "execute_result"
    }
   ],
   "source": [
    "fit['d_yields_pred']"
   ]
  },
  {
   "cell_type": "code",
   "execution_count": 84,
   "metadata": {},
   "outputs": [
    {
     "data": {
      "text/plain": [
       "['__abstractmethods__',\n",
       " '__class__',\n",
       " '__class_getitem__',\n",
       " '__contains__',\n",
       " '__delattr__',\n",
       " '__dict__',\n",
       " '__dir__',\n",
       " '__doc__',\n",
       " '__eq__',\n",
       " '__format__',\n",
       " '__ge__',\n",
       " '__getattribute__',\n",
       " '__getitem__',\n",
       " '__gt__',\n",
       " '__hash__',\n",
       " '__init__',\n",
       " '__init_subclass__',\n",
       " '__iter__',\n",
       " '__le__',\n",
       " '__len__',\n",
       " '__lt__',\n",
       " '__module__',\n",
       " '__ne__',\n",
       " '__new__',\n",
       " '__reduce__',\n",
       " '__reduce_ex__',\n",
       " '__repr__',\n",
       " '__reversed__',\n",
       " '__setattr__',\n",
       " '__sizeof__',\n",
       " '__slots__',\n",
       " '__str__',\n",
       " '__subclasshook__',\n",
       " '__weakref__',\n",
       " '_abc_impl',\n",
       " '_draws',\n",
       " '_parameter_indexes',\n",
       " 'constrained_param_names',\n",
       " 'dims',\n",
       " 'get',\n",
       " 'items',\n",
       " 'keys',\n",
       " 'num_chains',\n",
       " 'num_samples',\n",
       " 'num_thin',\n",
       " 'num_warmup',\n",
       " 'param_names',\n",
       " 'sample_and_sampler_param_names',\n",
       " 'save_warmup',\n",
       " 'stan_outputs',\n",
       " 'to_frame',\n",
       " 'values']"
      ]
     },
     "execution_count": 84,
     "metadata": {},
     "output_type": "execute_result"
    }
   ],
   "source": [
    "dir(fit)"
   ]
  },
  {
   "cell_type": "code",
   "execution_count": 137,
   "metadata": {},
   "outputs": [
    {
     "data": {
      "text/plain": [
       "('lp__',\n",
       " 'accept_stat__',\n",
       " 'stepsize__',\n",
       " 'treedepth__',\n",
       " 'n_leapfrog__',\n",
       " 'divergent__',\n",
       " 'energy__')"
      ]
     },
     "execution_count": 137,
     "metadata": {},
     "output_type": "execute_result"
    }
   ],
   "source": [
    "fit.sample_and_sampler_param_names"
   ]
  },
  {
   "cell_type": "code",
   "execution_count": 138,
   "metadata": {},
   "outputs": [
    {
     "data": {
      "text/plain": [
       "('s_temp', 'd_yields_pred', 'tmp')"
      ]
     },
     "execution_count": 138,
     "metadata": {},
     "output_type": "execute_result"
    }
   ],
   "source": [
    "fit.param_names"
   ]
  },
  {
   "cell_type": "code",
   "execution_count": 85,
   "metadata": {},
   "outputs": [
    {
     "name": "stdout",
     "output_type": "stream",
     "text": [
      "[ True  True  True ...  True  True  True]\n"
     ]
    }
   ],
   "source": [
    "x= fit['treedepth__']\n",
    "for y in x:\n",
    "    print(sum(x)>0) # [ True  True  True ...  True  True  True]\n"
   ]
  },
  {
   "cell_type": "code",
   "execution_count": 86,
   "metadata": {},
   "outputs": [],
   "source": [
    "# from https://github.com/grburgess/stan_utility/blob/master/stan_utility/utils.py\n",
    "def check_div(fit, quiet=False):\n",
    "    \"\"\"Check transitions that ended with a divergence\"\"\"\n",
    "    # sampler_params = fit.sample_and_sampler_param_names\n",
    "    # divergent = [x for y in sampler_params for x in y[\"divergent__\"]]\n",
    "    divergent = fit[\"divergent__\"][0]\n",
    "    n = sum(divergent)\n",
    "    N = len(divergent)\n",
    "\n",
    "    if not quiet and n > 0:\n",
    "        print(\n",
    "            \"{} of {} iterations ended with a divergence ({}%)\".format(\n",
    "                n, N, 100 * n / N\n",
    "            )\n",
    "        )\n",
    "        # return 'jokes'\n",
    "\n",
    "    if n > 0:\n",
    "        if not quiet:\n",
    "            print(\"  Try running with larger adapt_delta to remove the divergences\")\n",
    "            # return 'here'\n",
    "        else:\n",
    "            return False\n",
    "    else:\n",
    "        if quiet:\n",
    "            return True\n",
    "        # else:\n",
    "        #     return 'silly'\n",
    "\n",
    "\n",
    "def check_treedepth(fit, max_treedepth=10, quiet=False):\n",
    "    \"\"\"Check transitions that ended prematurely due to maximum tree depth limit\"\"\"\n",
    "    # depths = [x for y in sampler_params for x in y[\"treedepth__\"]]\n",
    "    depths = fit['treedepth__'][0]\n",
    "    n = sum(1 for x in depths if x == max_treedepth)\n",
    "    N = len(depths)\n",
    "\n",
    "    if not quiet and n > 0:\n",
    "        print(\n",
    "            (\n",
    "                \"{} of {} iterations saturated the maximum tree depth of {}\" + \" ({}%)\"\n",
    "            ).format(n, N, max_treedepth, 100 * n / N)\n",
    "        )\n",
    "    if n > 0:\n",
    "        if not quiet:\n",
    "            print(\n",
    "                \"  Run again with max_treedepth set to a larger value to avoid saturation\"\n",
    "            )\n",
    "        else:\n",
    "            return False\n",
    "    else:\n",
    "        if quiet:\n",
    "            return True\n",
    "\n",
    "\n",
    "def check_energy(fit, quiet=False):\n",
    "    \"\"\"Checks the energy fraction of missing information (E-FMI)\"\"\"\n",
    "    # sampler_params = fit\n",
    "    no_warning = True\n",
    "    for chain_num, energies in enumerate(fit['energy__']):\n",
    "        # energies = s[\"energy__\"]\n",
    "        numer = sum(\n",
    "            (energies[i] - energies[i - 1]) ** 2 for i in range(1, len(energies))\n",
    "        ) / len(energies)\n",
    "        denom = np.var(energies)\n",
    "        if numer / denom < 0.2:\n",
    "            if not quiet:\n",
    "                print(\"Chain {}: E-BFMI = {}\".format(chain_num, numer / denom))\n",
    "            no_warning = False\n",
    "\n",
    "    if no_warning:\n",
    "        if quiet:\n",
    "            return True\n",
    "    else:\n",
    "        if not quiet:\n",
    "            print(\n",
    "                \"  E-BFMI below 0.2 indicates you may need to reparameterize your model\"\n",
    "            )\n",
    "        else:\n",
    "            return False\n"
   ]
  },
  {
   "cell_type": "code",
   "execution_count": 87,
   "metadata": {},
   "outputs": [],
   "source": [
    "# carry out some diagnostic checks on fit\n",
    "# import stan_utility\n",
    "check_div(fit)\n",
    "check_energy(fit)\n",
    "check_treedepth(fit)"
   ]
  },
  {
   "cell_type": "code",
   "execution_count": 88,
   "metadata": {},
   "outputs": [
    {
     "data": {
      "text/plain": [
       "<bound method Mapping.keys of <stan.Fit>\n",
       "Parameters:\n",
       "    s_temp: (2, 12)\n",
       "    d_yields_pred: (2, 35)\n",
       "    tmp: ()\n",
       "Draws: 4000>"
      ]
     },
     "execution_count": 88,
     "metadata": {},
     "output_type": "execute_result"
    }
   ],
   "source": [
    "fit.keys"
   ]
  },
  {
   "cell_type": "code",
   "execution_count": 89,
   "metadata": {},
   "outputs": [
    {
     "name": "stdout",
     "output_type": "stream",
     "text": [
      "Building...\n"
     ]
    },
    {
     "name": "stderr",
     "output_type": "stream",
     "text": [
      "\n",
      "Building: found in cache, done.Messages from stanc:\n",
      "Warning in '/var/folders/m7/fqkk2h3d5rlbg6_z4yfy3dc4000z5d/T/httpstan_8ls7lxt3/model_2wdzshqy.stan', line 28, column 24: Argument 100.0 suggests there may be parameters that are not unit scale; consider rescaling with a multiplier (see manual section 22.12).\n",
      "Sampling:   0%\n",
      "Sampling: 100%, done.\n",
      "Messages received during sampling:\n",
      "  Gradient evaluation took 7.1e-05 seconds\n",
      "  1000 transitions using 10 leapfrog steps per transition would take 0.71 seconds.\n",
      "  Adjust your expectations accordingly!\n",
      "  Gradient evaluation took 6.6e-05 seconds\n",
      "  1000 transitions using 10 leapfrog steps per transition would take 0.66 seconds.\n",
      "  Adjust your expectations accordingly!\n",
      "  Gradient evaluation took 6.2e-05 seconds\n",
      "  1000 transitions using 10 leapfrog steps per transition would take 0.62 seconds.\n",
      "  Adjust your expectations accordingly!\n",
      "  Gradient evaluation took 4.9e-05 seconds\n",
      "  1000 transitions using 10 leapfrog steps per transition would take 0.49 seconds.\n",
      "  Adjust your expectations accordingly!\n"
     ]
    }
   ],
   "source": [
    "posterior = stan.build(model, data=data, random_seed=5)\n",
    "pfit = posterior.sample(num_chains=4, num_samples=150)"
   ]
  },
  {
   "cell_type": "code",
   "execution_count": 90,
   "metadata": {},
   "outputs": [
    {
     "data": {
      "text/plain": [
       "KeysView(<stan.Fit>\n",
       "Parameters:\n",
       "    s_temp: (2, 12)\n",
       "    d_yields_pred: (2, 35)\n",
       "    tmp: ()\n",
       "Draws: 600)"
      ]
     },
     "execution_count": 90,
     "metadata": {},
     "output_type": "execute_result"
    }
   ],
   "source": [
    "pfit.keys()"
   ]
  },
  {
   "cell_type": "code",
   "execution_count": 91,
   "metadata": {},
   "outputs": [
    {
     "data": {
      "text/plain": [
       "(2, 35, 4000)"
      ]
     },
     "execution_count": 91,
     "metadata": {},
     "output_type": "execute_result"
    }
   ],
   "source": [
    "# fit['s_temp'].shape # (2, 12, 4000)\n",
    "fit['s_temp'].T.shape # (4000, 12, 2)\n",
    "fit['d_yields_pred'].shape # (2, 35, 4000)"
   ]
  },
  {
   "cell_type": "code",
   "execution_count": 92,
   "metadata": {},
   "outputs": [
    {
     "data": {
      "text/plain": [
       "dict_keys(['s_temp', 'd_yields_pred', 'tmp'])"
      ]
     },
     "execution_count": 92,
     "metadata": {},
     "output_type": "execute_result"
    }
   ],
   "source": [
    "\n",
    "{k:v for k,v in fit.items()}.keys()"
   ]
  },
  {
   "cell_type": "code",
   "execution_count": 93,
   "metadata": {},
   "outputs": [
    {
     "data": {
      "image/png": "[encoded data removed]",
      "text/plain": [
       "<Figure size 720x720 with 1 Axes>"
      ]
     },
     "metadata": {
      "needs_background": "light"
     },
     "output_type": "display_data"
    }
   ],
   "source": [
    "# changes samples to fit (shape 35,4000) not right\n",
    "plt.figure(figsize=(10,10))\n",
    "# plt.violinplot(fit['s_temp'].T[:,0,:]);\n",
    "plt.violinplot(fit['s_temp'].T[:,:,0]);\n",
    "# plt.violinplot(fit['s_temp'].T[:,1,:]);\n",
    "plt.violinplot(fit['s_temp'].T[:,:,1]);\n",
    "plt.xticks(range(1,13),wheat_temp.columns[1:]);\n"
   ]
  },
  {
   "cell_type": "code",
   "execution_count": 94,
   "metadata": {},
   "outputs": [
    {
     "data": {
      "image/png": "[encoded data removed]",
      "text/plain": [
       "<Figure size 432x288 with 1 Axes>"
      ]
     },
     "metadata": {
      "needs_background": "light"
     },
     "output_type": "display_data"
    }
   ],
   "source": [
    "for s in range(0,4000,200):  # changed from 2000 to 600 for wheat  what is s, just a sample of the sample yield predictions?\n",
    "    plt.plot(range(1980,2015),fit['d_yields_pred'].T[s,:,0].T,alpha=0.5)"
   ]
  },
  {
   "cell_type": "code",
   "execution_count": 95,
   "metadata": {},
   "outputs": [
    {
     "data": {
      "text/plain": [
       "array([ 0.51052483, -1.74263848, -1.01088034,  0.7352297 ,  1.67735328,\n",
       "        0.28645156, -0.98490011,  1.51170648, -0.23198035,  0.00565775,\n",
       "       -2.04082713, -0.38324707, -2.7035982 ,  1.26825777, -0.77402133,\n",
       "        0.31670411,  1.08620078,  0.06845404,  1.07508806, -1.92344693,\n",
       "       -0.68759142,  0.9757343 , -1.05048518, -0.9683349 , -0.32427073,\n",
       "       -0.40325483,  0.62120506, -0.21837193, -0.95314171, -0.26032657,\n",
       "        1.12459337,  0.71459718, -0.23363431,  0.24094911,  0.92243474])"
      ]
     },
     "execution_count": 95,
     "metadata": {},
     "output_type": "execute_result"
    }
   ],
   "source": [
    "\n",
    "'''\n",
    "INvestigation\n",
    "'''\n",
    "# for s in range(0,2000,100):\n",
    "fit['d_yields_pred'].T[599,:,0] #shape is (600,35,2)"
   ]
  },
  {
   "cell_type": "code",
   "execution_count": 96,
   "metadata": {},
   "outputs": [
    {
     "data": {
      "text/plain": [
       "<matplotlib.legend.Legend at 0x140ba29d0>"
      ]
     },
     "execution_count": 96,
     "metadata": {},
     "output_type": "execute_result"
    },
    {
     "data": {
      "image/png": "[encoded data removed]",
      "text/plain": [
       "<Figure size 720x360 with 1 Axes>"
      ]
     },
     "metadata": {
      "needs_background": "light"
     },
     "output_type": "display_data"
    }
   ],
   "source": [
    "plt.figure(figsize=(10,5))\n",
    "# plt.violinplot(fit['d_yields_pred'][:,0,:].T,showextrema=False); transpose the d_yields_pred and change the slice (0 to the end because thats where the index is only 2)\n",
    "plt.violinplot(fit['d_yields_pred'].T[:,:,0],showextrema=False);\n",
    "plt.xticks(range(1,36),np.arange(1980,2015),rotation=90);\n",
    "plt.plot(range(1,36),data['d_yields'][0,:], label='historic yield')\n",
    "plt.title(states[0])\n",
    "plt.legend()\n"
   ]
  },
  {
   "cell_type": "code",
   "execution_count": 97,
   "metadata": {},
   "outputs": [
    {
     "name": "stderr",
     "output_type": "stream",
     "text": [
      "No handles with labels found to put in legend.\n"
     ]
    },
    {
     "data": {
      "text/plain": [
       "<matplotlib.legend.Legend at 0x13cad3250>"
      ]
     },
     "execution_count": 97,
     "metadata": {},
     "output_type": "execute_result"
    },
    {
     "data": {
      "image/png": "[encoded data removed]",
      "text/plain": [
       "<Figure size 720x360 with 1 Axes>"
      ]
     },
     "metadata": {
      "needs_background": "light"
     },
     "output_type": "display_data"
    }
   ],
   "source": [
    "\n",
    "plt.figure(figsize=(10,5))\n",
    "plt.violinplot(fit['d_yields_pred'].T[:,:,1],showextrema=False);\n",
    "plt.xticks(range(1,36),np.arange(1980,2015),rotation=90);\n",
    "plt.plot(range(1,36),data['d_yields'][1,:])\n",
    "plt.title(states[1])\n",
    "plt.legend()\n"
   ]
  },
  {
   "cell_type": "code",
   "execution_count": 98,
   "metadata": {},
   "outputs": [
    {
     "data": {
      "text/plain": [
       "numpy.ndarray"
      ]
     },
     "execution_count": 98,
     "metadata": {},
     "output_type": "execute_result"
    }
   ],
   "source": [
    "type(data['d_yields'])"
   ]
  },
  {
   "cell_type": "code",
   "execution_count": 99,
   "metadata": {},
   "outputs": [
    {
     "data": {
      "text/plain": [
       "(2, 35)"
      ]
     },
     "execution_count": 99,
     "metadata": {},
     "output_type": "execute_result"
    }
   ],
   "source": [
    "data['d_yields'].shape"
   ]
  },
  {
   "cell_type": "code",
   "execution_count": null,
   "metadata": {},
   "outputs": [],
   "source": []
  }
 ],
 "metadata": {
  "interpreter": {
   "hash": "c80364304a4cfeb73f136b80b0d90c3488134df46aa1d903a1177664d06353bd"
  },
  "kernelspec": {
   "display_name": "Python 3.9.5 ('simfarm')",
   "language": "python",
   "name": "python3"
  },
  "language_info": {
   "codemirror_mode": {
    "name": "ipython",
    "version": 3
   },
   "file_extension": ".py",
   "mimetype": "text/x-python",
   "name": "python",
   "nbconvert_exporter": "python",
   "pygments_lexer": "ipython3",
   "version": "3.9.5"
  }
 },
 "nbformat": 4,
 "nbformat_minor": 2
}
