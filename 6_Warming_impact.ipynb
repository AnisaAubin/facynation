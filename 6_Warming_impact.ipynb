{
 "cells": [
  {
   "cell_type": "markdown",
   "metadata": {},
   "source": [
    "# 6. Investigating the impact of warming on model predictions\n",
    "## Forecasting Crop Yields on a national scale (FACYnation)\n",
    "\n",
    "### by Raphael Shirley (University of Sussex)\n",
    "\n",
    "In this notebook we take the previous model and investigate increases in temperature.\n",
    "\n",
    "## Investigating impact of temperature increases\n",
    "\n",
    "In this notebook we take the two dimensional Gaussian fitted to the regional data and check for the impact of temperature increases which should depend on where current temperatures lie with respect to the peak yield response.\n",
    "\n",
    "\n",
    "\n",
    "\n",
    "\n",
    "\n",
    "\n"
   ]
  },
  {
   "cell_type": "code",
   "execution_count": 1,
   "metadata": {},
   "outputs": [],
   "source": [
    "import numpy as np"
   ]
  },
  {
   "cell_type": "code",
   "execution_count": 2,
   "metadata": {},
   "outputs": [],
   "source": [
    "T_inc = np.linspace(0, 3, 100)"
   ]
  },
  {
   "cell_type": "code",
   "execution_count": 3,
   "metadata": {},
   "outputs": [
    {
     "data": {
      "text/plain": [
       "array([ 0.        ,  0.03030303,  0.06060606,  0.09090909,  0.12121212,\n",
       "        0.15151515,  0.18181818,  0.21212121,  0.24242424,  0.27272727,\n",
       "        0.3030303 ,  0.33333333,  0.36363636,  0.39393939,  0.42424242,\n",
       "        0.45454545,  0.48484848,  0.51515152,  0.54545455,  0.57575758,\n",
       "        0.60606061,  0.63636364,  0.66666667,  0.6969697 ,  0.72727273,\n",
       "        0.75757576,  0.78787879,  0.81818182,  0.84848485,  0.87878788,\n",
       "        0.90909091,  0.93939394,  0.96969697,  1.        ,  1.03030303,\n",
       "        1.06060606,  1.09090909,  1.12121212,  1.15151515,  1.18181818,\n",
       "        1.21212121,  1.24242424,  1.27272727,  1.3030303 ,  1.33333333,\n",
       "        1.36363636,  1.39393939,  1.42424242,  1.45454545,  1.48484848,\n",
       "        1.51515152,  1.54545455,  1.57575758,  1.60606061,  1.63636364,\n",
       "        1.66666667,  1.6969697 ,  1.72727273,  1.75757576,  1.78787879,\n",
       "        1.81818182,  1.84848485,  1.87878788,  1.90909091,  1.93939394,\n",
       "        1.96969697,  2.        ,  2.03030303,  2.06060606,  2.09090909,\n",
       "        2.12121212,  2.15151515,  2.18181818,  2.21212121,  2.24242424,\n",
       "        2.27272727,  2.3030303 ,  2.33333333,  2.36363636,  2.39393939,\n",
       "        2.42424242,  2.45454545,  2.48484848,  2.51515152,  2.54545455,\n",
       "        2.57575758,  2.60606061,  2.63636364,  2.66666667,  2.6969697 ,\n",
       "        2.72727273,  2.75757576,  2.78787879,  2.81818182,  2.84848485,\n",
       "        2.87878788,  2.90909091,  2.93939394,  2.96969697,  3.        ])"
      ]
     },
     "execution_count": 3,
     "metadata": {},
     "output_type": "execute_result"
    }
   ],
   "source": [
    "T_inc\n"
   ]
  },
  {
   "cell_type": "code",
   "execution_count": null,
   "metadata": {},
   "outputs": [],
   "source": [
    "x =\n",
    "\n",
    "def compute_mean_yield_anomaly(T_inc, T, P, model_parameters=x):\n",
    "    \"\"\" Compute mean yield anomaly for a model \n",
    "    \"\"\"\n",
    "    yield_anomaly = model(T + T_inc, P)\n",
    "    return yield_anomaly\n",
    "\n",
    "\n",
    "    "
   ]
  },
  {
   "cell_type": "code",
   "execution_count": null,
   "metadata": {},
   "outputs": [],
   "source": [
    "for T_inc_n in T_inc:\n",
    "    compute_mean_yield_anomaly(T_inc_n, T, P, model)"
   ]
  }
 ],
 "metadata": {
  "anaconda-cloud": {},
  "kernelspec": {
   "display_name": "Python (herschelhelp_internal)",
   "language": "python",
   "name": "helpint"
  },
  "language_info": {
   "codemirror_mode": {
    "name": "ipython",
    "version": 3
   },
   "file_extension": ".py",
   "mimetype": "text/x-python",
   "name": "python",
   "nbconvert_exporter": "python",
   "pygments_lexer": "ipython3",
   "version": "3.6.5"
  }
 },
 "nbformat": 4,
 "nbformat_minor": 2
}
